{
 "cells": [
  {
   "cell_type": "markdown",
   "metadata": {},
   "source": [
    "# Self-Contained Gradio UI and GPT Integration Notebook\n",
    "\n",
    "This notebook contains all the necessary code to set up a Gradio UI for the AI Financial Advisor and integrate it with GPT for generating financial insights. No external .py files are required.\n",
    "\n",
    "## License\n",
    "\n",
    "This notebook is licensed under the GPLv3 License. See the LICENSE file for more details.\n",
    "\n",
    "Copyright (C) 2024 [Vincent Koc](https://github.com/vincentkoc)\n",
    "\n",
    "Copyright (C) 2024 [Hung Nguyen](https://github.com/hung-ngm)\n",
    "\n",
    "## Setup\n",
    "\n",
    "First, let's import the necessary libraries and set up our environment."
   ]
  },
  {
   "cell_type": "code",
   "execution_count": 3,
   "metadata": {},
   "outputs": [
    {
     "name": "stdout",
     "output_type": "stream",
     "text": [
      "Requirement already satisfied: python-dotenv in c:\\users\\rujus\\appdata\\local\\programs\\python\\python311\\lib\\site-packages (1.0.1)\n",
      "Requirement already satisfied: pandas in c:\\users\\rujus\\appdata\\local\\programs\\python\\python311\\lib\\site-packages (2.1.1)\n",
      "Requirement already satisfied: gspread in c:\\users\\rujus\\appdata\\local\\programs\\python\\python311\\lib\\site-packages (6.2.0)\n",
      "Requirement already satisfied: oauth2client in c:\\users\\rujus\\appdata\\local\\programs\\python\\python311\\lib\\site-packages (4.1.3)\n",
      "Requirement already satisfied: openai==0.28.0 in c:\\users\\rujus\\appdata\\local\\programs\\python\\python311\\lib\\site-packages (0.28.0)\n",
      "Requirement already satisfied: pdfkit in c:\\users\\rujus\\appdata\\local\\programs\\python\\python311\\lib\\site-packages (1.0.0)\n",
      "Requirement already satisfied: gradio in c:\\users\\rujus\\appdata\\local\\programs\\python\\python311\\lib\\site-packages (4.11.0)\n",
      "Requirement already satisfied: requests>=2.20 in c:\\users\\rujus\\appdata\\local\\programs\\python\\python311\\lib\\site-packages (from openai==0.28.0) (2.31.0)\n",
      "Requirement already satisfied: tqdm in c:\\users\\rujus\\appdata\\local\\programs\\python\\python311\\lib\\site-packages (from openai==0.28.0) (4.66.1)\n",
      "Requirement already satisfied: aiohttp in c:\\users\\rujus\\appdata\\local\\programs\\python\\python311\\lib\\site-packages (from openai==0.28.0) (3.9.1)\n",
      "Requirement already satisfied: numpy>=1.23.2 in c:\\users\\rujus\\appdata\\local\\programs\\python\\python311\\lib\\site-packages (from pandas) (1.25.2)\n",
      "Requirement already satisfied: python-dateutil>=2.8.2 in c:\\users\\rujus\\appdata\\local\\programs\\python\\python311\\lib\\site-packages (from pandas) (2.8.2)\n",
      "Requirement already satisfied: pytz>=2020.1 in c:\\users\\rujus\\appdata\\local\\programs\\python\\python311\\lib\\site-packages (from pandas) (2023.3.post1)\n",
      "Requirement already satisfied: tzdata>=2022.1 in c:\\users\\rujus\\appdata\\local\\programs\\python\\python311\\lib\\site-packages (from pandas) (2023.3)\n",
      "Requirement already satisfied: google-auth>=1.12.0 in c:\\users\\rujus\\appdata\\local\\programs\\python\\python311\\lib\\site-packages (from gspread) (2.23.4)\n",
      "Requirement already satisfied: google-auth-oauthlib>=0.4.1 in c:\\users\\rujus\\appdata\\local\\programs\\python\\python311\\lib\\site-packages (from gspread) (1.1.0)\n",
      "Requirement already satisfied: httplib2>=0.9.1 in c:\\users\\rujus\\appdata\\local\\programs\\python\\python311\\lib\\site-packages (from oauth2client) (0.22.0)\n",
      "Requirement already satisfied: pyasn1>=0.1.7 in c:\\users\\rujus\\appdata\\local\\programs\\python\\python311\\lib\\site-packages (from oauth2client) (0.5.1)\n",
      "Requirement already satisfied: pyasn1-modules>=0.0.5 in c:\\users\\rujus\\appdata\\local\\programs\\python\\python311\\lib\\site-packages (from oauth2client) (0.3.0)\n",
      "Requirement already satisfied: rsa>=3.1.4 in c:\\users\\rujus\\appdata\\local\\programs\\python\\python311\\lib\\site-packages (from oauth2client) (4.9)\n",
      "Requirement already satisfied: six>=1.6.1 in c:\\users\\rujus\\appdata\\local\\programs\\python\\python311\\lib\\site-packages (from oauth2client) (1.16.0)\n",
      "Requirement already satisfied: aiofiles<24.0,>=22.0 in c:\\users\\rujus\\appdata\\local\\programs\\python\\python311\\lib\\site-packages (from gradio) (23.2.1)\n",
      "Requirement already satisfied: altair<6.0,>=4.2.0 in c:\\users\\rujus\\appdata\\local\\programs\\python\\python311\\lib\\site-packages (from gradio) (5.2.0)\n",
      "Requirement already satisfied: fastapi in c:\\users\\rujus\\appdata\\local\\programs\\python\\python311\\lib\\site-packages (from gradio) (0.105.0)\n",
      "Requirement already satisfied: ffmpy in c:\\users\\rujus\\appdata\\local\\programs\\python\\python311\\lib\\site-packages (from gradio) (0.3.1)\n",
      "Requirement already satisfied: gradio-client==0.7.3 in c:\\users\\rujus\\appdata\\local\\programs\\python\\python311\\lib\\site-packages (from gradio) (0.7.3)\n",
      "Requirement already satisfied: httpx in c:\\users\\rujus\\appdata\\local\\programs\\python\\python311\\lib\\site-packages (from gradio) (0.26.0)\n",
      "Requirement already satisfied: huggingface-hub>=0.19.3 in c:\\users\\rujus\\appdata\\local\\programs\\python\\python311\\lib\\site-packages (from gradio) (0.20.1)\n",
      "Requirement already satisfied: importlib-resources<7.0,>=1.3 in c:\\users\\rujus\\appdata\\local\\programs\\python\\python311\\lib\\site-packages (from gradio) (6.1.0)\n",
      "Requirement already satisfied: jinja2<4.0 in c:\\users\\rujus\\appdata\\local\\programs\\python\\python311\\lib\\site-packages (from gradio) (3.1.2)\n",
      "Requirement already satisfied: markupsafe~=2.0 in c:\\users\\rujus\\appdata\\local\\programs\\python\\python311\\lib\\site-packages (from gradio) (2.1.3)\n",
      "Requirement already satisfied: matplotlib~=3.0 in c:\\users\\rujus\\appdata\\local\\programs\\python\\python311\\lib\\site-packages (from gradio) (3.8.1)\n",
      "Requirement already satisfied: orjson~=3.0 in c:\\users\\rujus\\appdata\\local\\programs\\python\\python311\\lib\\site-packages (from gradio) (3.9.10)\n",
      "Requirement already satisfied: packaging in c:\\users\\rujus\\appdata\\local\\programs\\python\\python311\\lib\\site-packages (from gradio) (23.1)\n",
      "Requirement already satisfied: pillow<11.0,>=8.0 in c:\\users\\rujus\\appdata\\local\\programs\\python\\python311\\lib\\site-packages (from gradio) (10.0.1)\n",
      "Requirement already satisfied: pydantic>=2.0 in c:\\users\\rujus\\appdata\\local\\programs\\python\\python311\\lib\\site-packages (from gradio) (2.4.2)\n",
      "Requirement already satisfied: pydub in c:\\users\\rujus\\appdata\\local\\programs\\python\\python311\\lib\\site-packages (from gradio) (0.25.1)\n",
      "Requirement already satisfied: python-multipart in c:\\users\\rujus\\appdata\\local\\programs\\python\\python311\\lib\\site-packages (from gradio) (0.0.6)\n",
      "Requirement already satisfied: pyyaml<7.0,>=5.0 in c:\\users\\rujus\\appdata\\local\\programs\\python\\python311\\lib\\site-packages (from gradio) (6.0.1)\n",
      "Requirement already satisfied: semantic-version~=2.0 in c:\\users\\rujus\\appdata\\local\\programs\\python\\python311\\lib\\site-packages (from gradio) (2.10.0)\n",
      "Requirement already satisfied: tomlkit==0.12.0 in c:\\users\\rujus\\appdata\\local\\programs\\python\\python311\\lib\\site-packages (from gradio) (0.12.0)\n",
      "Requirement already satisfied: typer<1.0,>=0.9 in c:\\users\\rujus\\appdata\\local\\programs\\python\\python311\\lib\\site-packages (from typer[all]<1.0,>=0.9->gradio) (0.9.0)\n",
      "Requirement already satisfied: typing-extensions~=4.0 in c:\\users\\rujus\\appdata\\local\\programs\\python\\python311\\lib\\site-packages (from gradio) (4.8.0)\n",
      "Requirement already satisfied: uvicorn>=0.14.0 in c:\\users\\rujus\\appdata\\local\\programs\\python\\python311\\lib\\site-packages (from gradio) (0.25.0)\n",
      "Requirement already satisfied: fsspec in c:\\users\\rujus\\appdata\\local\\programs\\python\\python311\\lib\\site-packages (from gradio-client==0.7.3->gradio) (2023.10.0)\n",
      "Requirement already satisfied: websockets<12.0,>=10.0 in c:\\users\\rujus\\appdata\\local\\programs\\python\\python311\\lib\\site-packages (from gradio-client==0.7.3->gradio) (10.4)\n",
      "Requirement already satisfied: jsonschema>=3.0 in c:\\users\\rujus\\appdata\\local\\programs\\python\\python311\\lib\\site-packages (from altair<6.0,>=4.2.0->gradio) (4.19.0)\n",
      "Requirement already satisfied: toolz in c:\\users\\rujus\\appdata\\local\\programs\\python\\python311\\lib\\site-packages (from altair<6.0,>=4.2.0->gradio) (0.12.0)\n",
      "Requirement already satisfied: cachetools<6.0,>=2.0.0 in c:\\users\\rujus\\appdata\\local\\programs\\python\\python311\\lib\\site-packages (from google-auth>=1.12.0->gspread) (5.3.2)\n",
      "Requirement already satisfied: requests-oauthlib>=0.7.0 in c:\\users\\rujus\\appdata\\local\\programs\\python\\python311\\lib\\site-packages (from google-auth-oauthlib>=0.4.1->gspread) (1.3.1)\n",
      "Requirement already satisfied: pyparsing!=3.0.0,!=3.0.1,!=3.0.2,!=3.0.3,<4,>=2.4.2 in c:\\users\\rujus\\appdata\\local\\programs\\python\\python311\\lib\\site-packages (from httplib2>=0.9.1->oauth2client) (3.1.1)\n",
      "Requirement already satisfied: filelock in c:\\users\\rujus\\appdata\\local\\programs\\python\\python311\\lib\\site-packages (from huggingface-hub>=0.19.3->gradio) (3.13.1)\n",
      "Requirement already satisfied: contourpy>=1.0.1 in c:\\users\\rujus\\appdata\\local\\programs\\python\\python311\\lib\\site-packages (from matplotlib~=3.0->gradio) (1.1.1)\n",
      "Requirement already satisfied: cycler>=0.10 in c:\\users\\rujus\\appdata\\local\\programs\\python\\python311\\lib\\site-packages (from matplotlib~=3.0->gradio) (0.12.0)\n",
      "Requirement already satisfied: fonttools>=4.22.0 in c:\\users\\rujus\\appdata\\local\\programs\\python\\python311\\lib\\site-packages (from matplotlib~=3.0->gradio) (4.43.0)\n",
      "Requirement already satisfied: kiwisolver>=1.3.1 in c:\\users\\rujus\\appdata\\local\\programs\\python\\python311\\lib\\site-packages (from matplotlib~=3.0->gradio) (1.4.5)\n",
      "Requirement already satisfied: annotated-types>=0.4.0 in c:\\users\\rujus\\appdata\\local\\programs\\python\\python311\\lib\\site-packages (from pydantic>=2.0->gradio) (0.6.0)\n",
      "Requirement already satisfied: pydantic-core==2.10.1 in c:\\users\\rujus\\appdata\\local\\programs\\python\\python311\\lib\\site-packages (from pydantic>=2.0->gradio) (2.10.1)\n",
      "Requirement already satisfied: charset-normalizer<4,>=2 in c:\\users\\rujus\\appdata\\local\\programs\\python\\python311\\lib\\site-packages (from requests>=2.20->openai==0.28.0) (3.2.0)\n",
      "Requirement already satisfied: idna<4,>=2.5 in c:\\users\\rujus\\appdata\\local\\programs\\python\\python311\\lib\\site-packages (from requests>=2.20->openai==0.28.0) (3.4)\n",
      "Requirement already satisfied: urllib3<3,>=1.21.1 in c:\\users\\rujus\\appdata\\local\\programs\\python\\python311\\lib\\site-packages (from requests>=2.20->openai==0.28.0) (1.26.18)\n",
      "Requirement already satisfied: certifi>=2017.4.17 in c:\\users\\rujus\\appdata\\local\\programs\\python\\python311\\lib\\site-packages (from requests>=2.20->openai==0.28.0) (2023.7.22)\n",
      "Requirement already satisfied: colorama in c:\\users\\rujus\\appdata\\local\\programs\\python\\python311\\lib\\site-packages (from tqdm->openai==0.28.0) (0.4.6)\n",
      "Requirement already satisfied: click<9.0.0,>=7.1.1 in c:\\users\\rujus\\appdata\\local\\programs\\python\\python311\\lib\\site-packages (from typer<1.0,>=0.9->typer[all]<1.0,>=0.9->gradio) (8.1.7)\n",
      "Requirement already satisfied: shellingham<2.0.0,>=1.3.0 in c:\\users\\rujus\\appdata\\local\\programs\\python\\python311\\lib\\site-packages (from typer[all]<1.0,>=0.9->gradio) (1.5.4)\n",
      "Requirement already satisfied: rich<14.0.0,>=10.11.0 in c:\\users\\rujus\\appdata\\local\\programs\\python\\python311\\lib\\site-packages (from typer[all]<1.0,>=0.9->gradio) (13.7.0)\n",
      "Requirement already satisfied: h11>=0.8 in c:\\users\\rujus\\appdata\\local\\programs\\python\\python311\\lib\\site-packages (from uvicorn>=0.14.0->gradio) (0.14.0)\n",
      "Requirement already satisfied: attrs>=17.3.0 in c:\\users\\rujus\\appdata\\local\\programs\\python\\python311\\lib\\site-packages (from aiohttp->openai==0.28.0) (23.1.0)\n",
      "Requirement already satisfied: multidict<7.0,>=4.5 in c:\\users\\rujus\\appdata\\local\\programs\\python\\python311\\lib\\site-packages (from aiohttp->openai==0.28.0) (6.0.4)\n",
      "Requirement already satisfied: yarl<2.0,>=1.0 in c:\\users\\rujus\\appdata\\local\\programs\\python\\python311\\lib\\site-packages (from aiohttp->openai==0.28.0) (1.9.4)\n",
      "Requirement already satisfied: frozenlist>=1.1.1 in c:\\users\\rujus\\appdata\\local\\programs\\python\\python311\\lib\\site-packages (from aiohttp->openai==0.28.0) (1.4.1)\n",
      "Requirement already satisfied: aiosignal>=1.1.2 in c:\\users\\rujus\\appdata\\local\\programs\\python\\python311\\lib\\site-packages (from aiohttp->openai==0.28.0) (1.3.1)\n",
      "Requirement already satisfied: anyio<4.0.0,>=3.7.1 in c:\\users\\rujus\\appdata\\local\\programs\\python\\python311\\lib\\site-packages (from fastapi->gradio) (3.7.1)\n",
      "Requirement already satisfied: starlette<0.28.0,>=0.27.0 in c:\\users\\rujus\\appdata\\local\\programs\\python\\python311\\lib\\site-packages (from fastapi->gradio) (0.27.0)\n",
      "Requirement already satisfied: httpcore==1.* in c:\\users\\rujus\\appdata\\local\\programs\\python\\python311\\lib\\site-packages (from httpx->gradio) (1.0.2)\n",
      "Requirement already satisfied: sniffio in c:\\users\\rujus\\appdata\\local\\programs\\python\\python311\\lib\\site-packages (from httpx->gradio) (1.3.0)\n",
      "Requirement already satisfied: jsonschema-specifications>=2023.03.6 in c:\\users\\rujus\\appdata\\local\\programs\\python\\python311\\lib\\site-packages (from jsonschema>=3.0->altair<6.0,>=4.2.0->gradio) (2023.7.1)\n",
      "Requirement already satisfied: referencing>=0.28.4 in c:\\users\\rujus\\appdata\\local\\programs\\python\\python311\\lib\\site-packages (from jsonschema>=3.0->altair<6.0,>=4.2.0->gradio) (0.30.2)\n",
      "Requirement already satisfied: rpds-py>=0.7.1 in c:\\users\\rujus\\appdata\\local\\programs\\python\\python311\\lib\\site-packages (from jsonschema>=3.0->altair<6.0,>=4.2.0->gradio) (0.10.3)\n",
      "Requirement already satisfied: oauthlib>=3.0.0 in c:\\users\\rujus\\appdata\\local\\programs\\python\\python311\\lib\\site-packages (from requests-oauthlib>=0.7.0->google-auth-oauthlib>=0.4.1->gspread) (3.2.2)\n",
      "Requirement already satisfied: markdown-it-py>=2.2.0 in c:\\users\\rujus\\appdata\\local\\programs\\python\\python311\\lib\\site-packages (from rich<14.0.0,>=10.11.0->typer[all]<1.0,>=0.9->gradio) (3.0.0)\n",
      "Requirement already satisfied: pygments<3.0.0,>=2.13.0 in c:\\users\\rujus\\appdata\\local\\programs\\python\\python311\\lib\\site-packages (from rich<14.0.0,>=10.11.0->typer[all]<1.0,>=0.9->gradio) (2.16.1)\n",
      "Requirement already satisfied: mdurl~=0.1 in c:\\users\\rujus\\appdata\\local\\programs\\python\\python311\\lib\\site-packages (from markdown-it-py>=2.2.0->rich<14.0.0,>=10.11.0->typer[all]<1.0,>=0.9->gradio) (0.1.2)\n",
      "Note: you may need to restart the kernel to use updated packages.\n"
     ]
    },
    {
     "name": "stderr",
     "output_type": "stream",
     "text": [
      "\n",
      "[notice] A new release of pip is available: 23.3.2 -> 25.0.1\n",
      "[notice] To update, run: python.exe -m pip install --upgrade pip\n"
     ]
    }
   ],
   "source": [
    "%pip install python-dotenv pandas gspread oauth2client openai==0.28.0 pdfkit gradio"
   ]
  },
  {
   "cell_type": "code",
   "execution_count": 4,
   "metadata": {},
   "outputs": [],
   "source": [
    "import os\n",
    "import pandas as pd\n",
    "import openai\n",
    "import gradio as gr\n",
    "from dotenv import load_dotenv\n",
    "\n",
    "# Load environment variables\n",
    "load_dotenv()\n",
    "\n",
    "# Set up OpenAI API key\n",
    "openai.api_key = os.getenv(\"OPENAI_API_KEY\")\n",
    "\n",
    "# Check if the API key is set\n",
    "if not openai.api_key:\n",
    "    raise ValueError(\"OpenAI API key is not set. Please check your .env file.\")"
   ]
  },
  {
   "cell_type": "markdown",
   "metadata": {},
   "source": [
    "## Load Financial Data\n",
    "\n",
    "Let's define functions to load our financial data from either a CSV file or Google Sheets."
   ]
  },
  {
   "cell_type": "code",
   "execution_count": 11,
   "metadata": {},
   "outputs": [
    {
     "name": "stdout",
     "output_type": "stream",
     "text": [
      "Data loaded successfully. Shape: (121, 5)\n"
     ]
    }
   ],
   "source": [
    "import gspread\n",
    "from oauth2client.service_account import ServiceAccountCredentials\n",
    "\n",
    "def load_from_google_sheets():\n",
    "    scope = [\"https://spreadsheets.google.com/feeds\", \"https://www.googleapis.com/auth/drive\"]\n",
    "    creds = ServiceAccountCredentials.from_json_keyfile_name(os.getenv(\"GOOGLE_APPLICATION_CREDENTIALS\"), scope)\n",
    "    client = gspread.authorize(creds)\n",
    "\n",
    "    sheet = client.open_by_url(os.getenv(\"DUMMY_DATA_SPREADSHEET\")).sheet1\n",
    "    data = sheet.get_all_records()\n",
    "    return pd.DataFrame(data)\n",
    "\n",
    "def load_from_csv():\n",
    "    csv_path = 'C:/Users/rujus/Downloads/bitesize-notebook-financial-advisor-main/bitesize-notebook-financial-advisor-main/Syntethic Sydney Transaction Dataset - Sheet1.csv'  # Assuming the CSV file is in the same directory as the notebook\n",
    "    if not os.path.exists(csv_path):\n",
    "        raise FileNotFoundError(f\"The file {csv_path} does not exist.\")\n",
    "    return pd.read_csv(csv_path)\n",
    "\n",
    "def load_data():\n",
    "    if os.getenv(\"USE_GOOGLE_SHEETS\", \"false\").lower() == \"false\":\n",
    "        return load_from_google_sheets()\n",
    "    else:\n",
    "        return load_from_csv()\n",
    "\n",
    "# Load the financial data\n",
    "df = load_data()\n",
    "\n",
    "print(\"Data loaded successfully. Shape:\", df.shape)"
   ]
  },
  {
   "cell_type": "markdown",
   "metadata": {},
   "source": [
    "## Define Financial Analysis Functions\n",
    "\n",
    "Now, let's define the functions for generating financial summaries and personalized advice."
   ]
  },
  {
   "cell_type": "code",
   "execution_count": 12,
   "metadata": {},
   "outputs": [],
   "source": [
    "def generate_financial_summary(df):\n",
    "    total_spent = df[df['Income/Expense'] == 'Expense']['Amount'].sum()\n",
    "    total_income = df[df['Income/Expense'] == 'Income']['Amount'].sum()\n",
    "    category_spending = df[df['Income/Expense'] == 'Expense'].groupby('Category')['Amount'].sum()\n",
    "\n",
    "    completion = openai.ChatCompletion.create(\n",
    "        model=\"gpt-4o-mini\",\n",
    "        messages=[\n",
    "            {\"role\": \"system\", \"content\": \"You are a helpful financial assistant. Generate a concise financial summary based on the provided data.\"},\n",
    "            {\"role\": \"user\", \"content\": f\"Generate a financial summary based on the following data:\\n\"\n",
    "                                        f\"Total Income: ${total_income:.2f}\\n\"\n",
    "                                        f\"Total Expenses: ${total_spent:.2f}\\n\"\n",
    "                                        f\"Spending by category: {category_spending.to_dict()}\"}\n",
    "        ]\n",
    "    )\n",
    "    return completion.choices[0].message.content.strip()\n",
    "\n",
    "def generate_personalized_advice(df, age=None, lifestyle=None, hobbies=None):\n",
    "    transactions = df.to_string(index=False)\n",
    "\n",
    "    prompt = f\"\"\"\n",
    "    Based on the following transaction data:\n",
    "\n",
    "    {transactions}\n",
    "\n",
    "    And considering the following personal information:\n",
    "    Age: {age}\n",
    "    Lifestyle: {lifestyle}\n",
    "    Hobbies: {hobbies}\n",
    "\n",
    "    Please provide personalized financial advice. Include suggestions for budgeting, saving, and potential areas for improvement.\n",
    "    \"\"\"\n",
    "\n",
    "    response = openai.ChatCompletion.create(\n",
    "        model=\"gpt-4o-mini\",\n",
    "        messages=[\n",
    "            {\"role\": \"system\", \"content\": \"You are a helpful financial advisor.\"},\n",
    "            {\"role\": \"user\", \"content\": prompt}\n",
    "        ]\n",
    "    )\n",
    "\n",
    "    return response.choices[0].message.content"
   ]
  },
  {
   "cell_type": "markdown",
   "metadata": {},
   "source": [
    "## Define Advisor Interface\n",
    "\n",
    "Now, let's define the advisor interface function that will handle user requests for financial summaries and advice."
   ]
  },
  {
   "cell_type": "code",
   "execution_count": 13,
   "metadata": {},
   "outputs": [
    {
     "name": "stdout",
     "output_type": "stream",
     "text": [
      "Testing advisor interface...\n",
      "### Financial Summary\n",
      "\n",
      "**Total Income:** $39,952.00  \n",
      "**Total Expenses:** $22,590.21  \n",
      "**Net Income:** $17,361.79 (Income - Expenses)\n",
      "\n",
      "#### Spending by Category:\n",
      "- **Accommodation:** $9,250.00\n",
      "- **Charity:** $900.00\n",
      "- **Dining Out:** $1,081.50\n",
      "- **Electronics:** $3,500.00\n",
      "- **Entertainment:** $581.96\n",
      "- **Expense:** $200.00\n",
      "- **Fitness:** $160.00\n",
      "- **Groceries:** $2,292.00\n",
      "- **Insurance:** $600.00\n",
      "- **Miscellaneous:** $370.00\n",
      "- **Shopping:** $1,205.00\n",
      "- **Transportation:** $693.00\n",
      "- **Travel:** $950.00\n",
      "- **Utilities:** $806.75\n",
      "\n",
      "#### Summary Insights:\n",
      "- The net income indicates a healthy surplus, allowing for extra savings or investment.\n",
      "- The largest expense is Accommodation at $9,250.00, comprising about 41% of total expenses. \n",
      "- Electronics and Groceries also represent significant spending categories, contributing to overall budget allocation. \n",
      "\n",
      "### Recommendations:\n",
      "- Consider reviewing spending in high-cost categories like Accommodation and Electronics for potential savings.\n",
      "- Continue allocating funds toward charity and essential expenses to maintain a balanced budget and support sustainability.\n",
      "---\n",
      "Based on the transaction data you provided, here's a comprehensive analysis of your financial situation and tailored financial advice to improve your budgeting, saving habits, and general financial well-being:\n",
      "\n",
      "### 1. **Income Overview**\n",
      "Your income is sourced from various streams including a consistent salary from ABC Corp, freelance work, and dividends from stocks. Specifically, as observed from your recent data, your total income for December 2024 is $7,850 (including the holiday bonus).\n",
      "\n",
      "### 2. **Expense Analysis**\n",
      "Your expenses are categorized into various segments such as groceries, dining out, utilities, transportation, entertainment, and accommodation. \n",
      "\n",
      "**Monthly Average of Key Expense Categories:**\n",
      "- **Rent Payment**: $2,000\n",
      "- **Utilities**: Approximately $122 (average across the months)\n",
      "- **Groceries**: Approximately $189\n",
      "- **Dining Out**: Approximately $82\n",
      "- **Transportation**: Approximately $47\n",
      "- **Entertainment**: Approximately $70\n",
      "\n",
      "Your total expenses for December 2024 appear to fall around $5,700 (total from all categories).\n",
      "\n",
      "### 3. **Budgeting Recommendations:**\n",
      "- **Create a Monthly Budget**: Aim to allocate your income based on the 50/30/20 rule:\n",
      "  - **50% Needs**: Rent, utilities, essentials.\n",
      "  - **30% Wants**: Dining out, entertainment, shopping.\n",
      "  - **20% Savings/Debt Repayment**: Aim for contributions to savings and investments (more on this below).\n",
      "- **Track Expenses**: Consider using budgeting apps or a simple spreadsheet to help you categorize and track your monthly spending accurately.\n",
      "\n",
      "### 4. **Saving Strategies:**\n",
      "- **Emergency Fund**: Aim to build an emergency fund that covers 3-6 months of living expenses, roughly around $17,100 - $34,200 based on your spending patterns. Start by saving a small percentage of your income every month.\n",
      "- **Automate Savings**: Set up automatic transfers to savings or investment accounts with each paycheck to ensure you're saving consistently.\n",
      "- **High-Interest Savings Account**: Consider placing your emergency fund in a high-interest savings account to earn more on your cash reserves.\n",
      "  \n",
      "### 5. **Investment Opportunities:**\n",
      "- **Diversify Investments**: Given you have some income from dividends, consider further diversifying your investments to include stock indexes or mutual funds for long-term growth.\n",
      "- **Retirement Contributions**: If you haven’t already, consider contributing to your employer’s retirement plan or open an individual retirement account (IRA) to benefit from compounded growth over time.\n",
      "\n",
      "### 6. **Potential Areas for Improvement:**\n",
      "- **Dining Out**: While enjoyable, your dining out expenses total around $80-$250 per month. Try to limit dining expenses by cooking at home and reserving dining experiences for special occasions.\n",
      "- **Groceries**: You spend a significant amount on groceries. Consider meal planning and using shopping lists to help reduce impulse purchases. Look for discounts and promotions during grocery shopping.\n",
      "- **Entertainment**: Subscriptions (Netflix, Spotify) and discretionary spending in this category can add up. Review your subscriptions to see which are essential and perhaps cut back on those that you do not use regularly.\n",
      "  \n",
      "### 7. **Lifestyle Considerations:**\n",
      "- **Balance Lifestyle with Savings Goals**: Living in an urban area often comes with additional costs, but it also provides opportunities for lower-cost entertainment (like free events, museums, etc.) that can be leveraged to balance your entertainment spending.\n",
      "\n",
      "### 8. **Annual Review**: \n",
      "At the end of every year, analyze your spending habits and savings progress to adjust your budget accordingly for the following year.\n",
      "\n",
      "By implementing these suggestions, you can develop healthier financial habits that will help you achieve both your short-term needs and long-term financial goals. Always consider consulting with a financial advisor for personalized guidance and strategies tailored to your unique financial situation.\n"
     ]
    }
   ],
   "source": [
    "def advisor_interface(request_type, age, location, hobbies):\n",
    "    if request_type == \"Summary\":\n",
    "        return generate_financial_summary(df)\n",
    "    elif request_type == \"Advice\":\n",
    "        return generate_personalized_advice(df, age=age, lifestyle=location, hobbies=hobbies)\n",
    "    else:\n",
    "        return \"Invalid request type. Please choose 'Summary' or 'Advice'.\"\n",
    "\n",
    "# Test the function\n",
    "print(\"Testing advisor interface...\")\n",
    "print(advisor_interface(\"Summary\", 30, \"Urban\", \"Reading\"))\n",
    "print(\"---\")\n",
    "print(advisor_interface(\"Advice\", 30, \"Urban\", \"Reading\"))"
   ]
  },
  {
   "cell_type": "markdown",
   "metadata": {},
   "source": [
    "## Create Gradio Interface\n",
    "\n",
    "Now, let's create the Gradio interface for our AI Financial Advisor."
   ]
  },
  {
   "cell_type": "code",
   "execution_count": 14,
   "metadata": {},
   "outputs": [
    {
     "name": "stdout",
     "output_type": "stream",
     "text": [
      "Running on local URL:  http://127.0.0.1:7860\n",
      "\n",
      "To create a public link, set `share=True` in `launch()`.\n"
     ]
    },
    {
     "data": {
      "text/html": [
       "<div><iframe src=\"http://127.0.0.1:7860/\" width=\"100%\" height=\"500\" allow=\"autoplay; camera; microphone; clipboard-read; clipboard-write;\" frameborder=\"0\" allowfullscreen></iframe></div>"
      ],
      "text/plain": [
       "<IPython.core.display.HTML object>"
      ]
     },
     "metadata": {},
     "output_type": "display_data"
    },
    {
     "data": {
      "text/plain": []
     },
     "execution_count": 14,
     "metadata": {},
     "output_type": "execute_result"
    },
    {
     "name": "stdout",
     "output_type": "stream",
     "text": [
      "IMPORTANT: You are using gradio version 4.11.0, however version 4.44.1 is available, please upgrade.\n",
      "--------\n"
     ]
    }
   ],
   "source": [
    "def launch_gradio_ui():\n",
    "    iface = gr.Interface(\n",
    "        fn=advisor_interface,\n",
    "        inputs=[\n",
    "            gr.Dropdown(\n",
    "                choices=[\"Summary\", \"Advice\"],\n",
    "                label=\"Select summary or advice\"\n",
    "            ),\n",
    "            gr.Number(label=\"Age\"),\n",
    "            gr.Textbox(label=\"Lifestyle (optional)\", placeholder=\"e.g., Urban, Rural, Suburban\"),\n",
    "            gr.Textbox(label=\"Hobbies (optional)\", placeholder=\"e.g., Reading, Sports, Travel\")\n",
    "        ],\n",
    "        outputs=\"text\",\n",
    "        title=\"AI Financial Advisor\",\n",
    "        description=\"Get a financial summary or personalized advice based on your transaction history.\"\n",
    "    )\n",
    "    return iface\n",
    "\n",
    "# Create and launch the Gradio interface\n",
    "iface = launch_gradio_ui()\n",
    "iface.launch()"
   ]
  },
  {
   "cell_type": "markdown",
   "metadata": {},
   "source": [
    "## Interacting with the Gradio UI\n",
    "\n",
    "After running the cell above, you should see a link to the Gradio interface. Click on it to open the UI in a new tab. You can then interact with the AI Financial Advisor by:\n",
    "\n",
    "1. Selecting either \"Summary\" or \"Advice\" from the dropdown menu.\n",
    "2. If you selected \"Advice\", enter your age, lifestyle, and hobbies (optional).\n",
    "3. Click the \"Submit\" button to generate the financial summary or personalized advice.\n",
    "\n",
    "## Customizing the Gradio UI\n",
    "\n",
    "You can customize the Gradio UI by modifying the `launch_gradio_ui` function. For example, you could add more input fields, change the layout, or add example inputs."
   ]
  },
  {
   "cell_type": "markdown",
   "metadata": {},
   "source": [
    "## Conclusion\n",
    "\n",
    "In this notebook, we've created a self-contained Gradio UI for our AI Financial Advisor and integrated it with GPT for generating financial insights. This provides an interactive way for users to get financial summaries and personalized advice based on their transaction history and personal information.\n",
    "\n",
    "You can further improve this interface by:\n",
    "1. Adding data visualization components to show spending trends\n",
    "2. Implementing user authentication to handle multiple users' data\n",
    "3. Adding more advanced financial analysis tools\n",
    "\n",
    "Feel free to experiment with the code and adapt it to create even more powerful and user-friendly financial advisory tools!"
   ]
  }
 ],
 "metadata": {
  "kernelspec": {
   "display_name": "Python 3",
   "language": "python",
   "name": "python3"
  },
  "language_info": {
   "codemirror_mode": {
    "name": "ipython",
    "version": 3
   },
   "file_extension": ".py",
   "mimetype": "text/x-python",
   "name": "python",
   "nbconvert_exporter": "python",
   "pygments_lexer": "ipython3",
   "version": "3.11.5"
  }
 },
 "nbformat": 4,
 "nbformat_minor": 4
}
